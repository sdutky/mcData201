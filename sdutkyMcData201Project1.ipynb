{
 "cells": [
  {
   "cell_type": "markdown",
   "metadata": {},
   "source": [
    "# Project 1: Exploratory Data Analysis of Car Speeding and Warning Signs\n",
    "### Do drivers slow down after seeing a warning sign?\n",
    "### using data from Mr. Graham Amis, Cambridgeshire County Council, U.K. \n",
    "<p>obtained from  Pau Fonseca i Casas, Department of Statistics and Operations Research, Universitat Politècnica de Catalunya Barcelona, 08034, SPAIN <a href=\"pau@fib.upc.edu\">pau@fib.upc.edu<a>\n",
    "\n",
    "<a href=\"http://www-eio.upc.edu/~pau/cms/rdata/datasets.html\">R Datasets:</a> <a href=\"http://www-eio.upc.edu/~pau/cms/rdata/csv/boot/amis.csv\">(amis Data)</a>  <a href=\"http://www-eio.upc.edu/~pau/cms/rdata/doc/boot/amis.html\">(amis Documentation)</a>\n",
    "\n",
    "<p><p><a href=\"mailto:sdutky@gmail.com\">Steve Dutky</a>  DATA201 Spring 2019"
   ]
  },
  {
   "cell_type": "markdown",
   "metadata": {},
   "source": [
    "## Data Description:\n",
    "### Overview\n",
    "\"In a study into the effect that warning signs have on speeding patterns, Cambridgeshire County Council considered 14 pairs of locations. The locations were paired to account for factors such as traffic volume and type of road. One site in each pair had a sign erected warning of the dangers of speeding and asking drivers to slow down. No action was taken at the second site. Three sets of measurements were taken at each site. Each set of measurements was nominally of the speeds of 100 cars but not all sites have exactly 100 measurements. These speed measurements were taken before the erection of the sign, shortly after the erection of the sign, and again after the sign had been in place for some time.\"  <a href=\"http://www-eio.upc.edu/~pau/cms/rdata/doc/boot/amis.html\">(amis Documentation)</a>\n",
    "\n",
    "The underlying assumption is that the locations in each pair are equivalent:  the location without a warning sign (referenced hereafter as Ctl for Control) can serve as the baseline benchmark for the corresponding location at which a sign was erected (Sbj for Subject).  We shall test this assumption.\n",
    "\n",
    "### Details\n",
    "The data consists of a <a href=\"http://www-eio.upc.edu/~pau/cms/rdata/csv/boot/amis.csv\">csv file</a> of 8437 rows (excluding header) and <a href=\"http://www-eio.upc.edu/~pau/cms/rdata/doc/boot/amis.html\">4 columns</a>:\n",
    "    \n",
    "#### \"speed\n",
    "* Speeds of cars (in miles per hour).\n",
    "\n",
    "#### period\n",
    "* A numeric column indicating the time that the reading was taken. A value of 1 indicates a reading taken before the sign was erected, a 2 indicates a reading taken shortly after erection of the sign and a 3 indicates a reading taken after the sign had been in place for some time.\n",
    "\n",
    "#### warning\n",
    "*  numeric column indicating whether the location of the reading was chosen to have a warning sign erected. A value of 1 indicates presence of a sign [Sbj] and a value of 2 indicates that no sign was erected [Ctl].\n",
    "\n",
    "#### pair\n",
    "* A numeric column giving the pair number at which the reading was taken. Pairs were numbered from 1 to 14.<B>\"</B>\n",
    "\n",
    "\n",
    "\n"
   ]
  },
  {
   "cell_type": "markdown",
   "metadata": {},
   "source": [
    "## Interactive Python:\n"
   ]
  },
  {
   "cell_type": "markdown",
   "metadata": {},
   "source": [
    "#### Initialization:"
   ]
  },
  {
   "cell_type": "code",
   "execution_count": 1,
   "metadata": {},
   "outputs": [],
   "source": [
    "## import packages:\n",
    "import random # library of function for generating random numbers and samples\n",
    "import numpy as np # for vector operations\n",
    "import pandas as pd # for Data Frame methods\n",
    "import matplotlib.pyplot as plt # Two dimensional plotting library\n",
    "from scipy import stats #  library of statistical functions\n",
    "\n",
    "#\n",
    "# Set seed for generating psuedo random numbers\n",
    "np.random.seed(12345678)\n",
    "#\n",
    "# Set up graphics\n",
    "plt.style.use('classic')\n",
    "%matplotlib inline"
   ]
  },
  {
   "cell_type": "markdown",
   "metadata": {},
   "source": [
    "#### Import Traffic Dataset from Web Url"
   ]
  },
  {
   "cell_type": "code",
   "execution_count": 2,
   "metadata": {},
   "outputs": [
    {
     "data": {
      "text/plain": [
       "Index(['Unnamed: 0', 'speed', 'period', 'warning', 'pair'], dtype='object')"
      ]
     },
     "execution_count": 2,
     "metadata": {},
     "output_type": "execute_result"
    }
   ],
   "source": [
    "df=pd.read_csv('http://www-eio.upc.edu/~pau/cms/rdata/csv/boot/amis.csv')\n",
    "#\n",
    "#check columns\n",
    "df.columns\n"
   ]
  },
  {
   "cell_type": "code",
   "execution_count": 3,
   "metadata": {},
   "outputs": [],
   "source": [
    "#get rid of unamed column not referenced in documentation\n",
    "df.drop(columns=['Unnamed: 0'], inplace=True)\n",
    "#\n",
    "# The data contain no missing values.  To illustrate the handling of missing data\n",
    "# insert Nan at random row and column positions\n",
    "#\n",
    "randCols=[ random.randint(0,(df.shape[1]-1)) for x in range(0,10) ] # ten random columns\n",
    "randRows=random.sample(range(0,df.shape[0]),10)\n",
    "#\n",
    "for i in range(0, len(randCols)) :\n",
    "    df.iloc[randRows[i],randCols[i]]=np.nan\n"
   ]
  },
  {
   "cell_type": "markdown",
   "metadata": {},
   "source": [
    "#### Summarize Dataframe"
   ]
  },
  {
   "cell_type": "code",
   "execution_count": 4,
   "metadata": {},
   "outputs": [
    {
     "data": {
      "text/html": [
       "<div>\n",
       "<style scoped>\n",
       "    .dataframe tbody tr th:only-of-type {\n",
       "        vertical-align: middle;\n",
       "    }\n",
       "\n",
       "    .dataframe tbody tr th {\n",
       "        vertical-align: top;\n",
       "    }\n",
       "\n",
       "    .dataframe thead th {\n",
       "        text-align: right;\n",
       "    }\n",
       "</style>\n",
       "<table border=\"1\" class=\"dataframe\">\n",
       "  <thead>\n",
       "    <tr style=\"text-align: right;\">\n",
       "      <th></th>\n",
       "      <th>count</th>\n",
       "      <th>mean</th>\n",
       "      <th>std</th>\n",
       "      <th>min</th>\n",
       "      <th>25%</th>\n",
       "      <th>50%</th>\n",
       "      <th>75%</th>\n",
       "      <th>max</th>\n",
       "    </tr>\n",
       "  </thead>\n",
       "  <tbody>\n",
       "    <tr>\n",
       "      <th>speed</th>\n",
       "      <td>8433.0</td>\n",
       "      <td>37.822483</td>\n",
       "      <td>6.508126</td>\n",
       "      <td>19.0</td>\n",
       "      <td>33.0</td>\n",
       "      <td>37.0</td>\n",
       "      <td>42.0</td>\n",
       "      <td>67.0</td>\n",
       "    </tr>\n",
       "    <tr>\n",
       "      <th>period</th>\n",
       "      <td>8435.0</td>\n",
       "      <td>2.004386</td>\n",
       "      <td>0.817380</td>\n",
       "      <td>1.0</td>\n",
       "      <td>1.0</td>\n",
       "      <td>2.0</td>\n",
       "      <td>3.0</td>\n",
       "      <td>3.0</td>\n",
       "    </tr>\n",
       "    <tr>\n",
       "      <th>warning</th>\n",
       "      <td>8435.0</td>\n",
       "      <td>1.506698</td>\n",
       "      <td>0.499985</td>\n",
       "      <td>1.0</td>\n",
       "      <td>1.0</td>\n",
       "      <td>2.0</td>\n",
       "      <td>2.0</td>\n",
       "      <td>2.0</td>\n",
       "    </tr>\n",
       "    <tr>\n",
       "      <th>pair</th>\n",
       "      <td>8435.0</td>\n",
       "      <td>7.560403</td>\n",
       "      <td>4.030003</td>\n",
       "      <td>1.0</td>\n",
       "      <td>4.0</td>\n",
       "      <td>8.0</td>\n",
       "      <td>11.0</td>\n",
       "      <td>14.0</td>\n",
       "    </tr>\n",
       "  </tbody>\n",
       "</table>\n",
       "</div>"
      ],
      "text/plain": [
       "          count       mean       std   min   25%   50%   75%   max\n",
       "speed    8433.0  37.822483  6.508126  19.0  33.0  37.0  42.0  67.0\n",
       "period   8435.0   2.004386  0.817380   1.0   1.0   2.0   3.0   3.0\n",
       "warning  8435.0   1.506698  0.499985   1.0   1.0   2.0   2.0   2.0\n",
       "pair     8435.0   7.560403  4.030003   1.0   4.0   8.0  11.0  14.0"
      ]
     },
     "execution_count": 4,
     "metadata": {},
     "output_type": "execute_result"
    }
   ],
   "source": [
    "df.describe().T"
   ]
  },
  {
   "cell_type": "code",
   "execution_count": 5,
   "metadata": {},
   "outputs": [
    {
     "name": "stdout",
     "output_type": "stream",
     "text": [
      "<class 'pandas.core.frame.DataFrame'>\n",
      "RangeIndex: 8437 entries, 0 to 8436\n",
      "Data columns (total 4 columns):\n",
      "speed      8433 non-null float64\n",
      "period     8435 non-null float64\n",
      "warning    8435 non-null float64\n",
      "pair       8435 non-null float64\n",
      "dtypes: float64(4)\n",
      "memory usage: 263.7 KB\n"
     ]
    }
   ],
   "source": [
    "df.info()"
   ]
  },
  {
   "cell_type": "markdown",
   "metadata": {},
   "source": [
    "#### Eliminate Nan's from Dataframe and Resummarize"
   ]
  },
  {
   "cell_type": "code",
   "execution_count": 6,
   "metadata": {},
   "outputs": [
    {
     "data": {
      "text/html": [
       "<div>\n",
       "<style scoped>\n",
       "    .dataframe tbody tr th:only-of-type {\n",
       "        vertical-align: middle;\n",
       "    }\n",
       "\n",
       "    .dataframe tbody tr th {\n",
       "        vertical-align: top;\n",
       "    }\n",
       "\n",
       "    .dataframe thead th {\n",
       "        text-align: right;\n",
       "    }\n",
       "</style>\n",
       "<table border=\"1\" class=\"dataframe\">\n",
       "  <thead>\n",
       "    <tr style=\"text-align: right;\">\n",
       "      <th></th>\n",
       "      <th>count</th>\n",
       "      <th>mean</th>\n",
       "      <th>std</th>\n",
       "      <th>min</th>\n",
       "      <th>25%</th>\n",
       "      <th>50%</th>\n",
       "      <th>75%</th>\n",
       "      <th>max</th>\n",
       "    </tr>\n",
       "  </thead>\n",
       "  <tbody>\n",
       "    <tr>\n",
       "      <th>speed</th>\n",
       "      <td>8427.0</td>\n",
       "      <td>37.824374</td>\n",
       "      <td>6.508900</td>\n",
       "      <td>19.0</td>\n",
       "      <td>33.0</td>\n",
       "      <td>37.0</td>\n",
       "      <td>42.0</td>\n",
       "      <td>67.0</td>\n",
       "    </tr>\n",
       "    <tr>\n",
       "      <th>period</th>\n",
       "      <td>8427.0</td>\n",
       "      <td>2.004747</td>\n",
       "      <td>0.817403</td>\n",
       "      <td>1.0</td>\n",
       "      <td>1.0</td>\n",
       "      <td>2.0</td>\n",
       "      <td>3.0</td>\n",
       "      <td>3.0</td>\n",
       "    </tr>\n",
       "    <tr>\n",
       "      <th>warning</th>\n",
       "      <td>8427.0</td>\n",
       "      <td>1.506705</td>\n",
       "      <td>0.499985</td>\n",
       "      <td>1.0</td>\n",
       "      <td>1.0</td>\n",
       "      <td>2.0</td>\n",
       "      <td>2.0</td>\n",
       "      <td>2.0</td>\n",
       "    </tr>\n",
       "    <tr>\n",
       "      <th>pair</th>\n",
       "      <td>8427.0</td>\n",
       "      <td>7.557731</td>\n",
       "      <td>4.029571</td>\n",
       "      <td>1.0</td>\n",
       "      <td>4.0</td>\n",
       "      <td>8.0</td>\n",
       "      <td>11.0</td>\n",
       "      <td>14.0</td>\n",
       "    </tr>\n",
       "  </tbody>\n",
       "</table>\n",
       "</div>"
      ],
      "text/plain": [
       "          count       mean       std   min   25%   50%   75%   max\n",
       "speed    8427.0  37.824374  6.508900  19.0  33.0  37.0  42.0  67.0\n",
       "period   8427.0   2.004747  0.817403   1.0   1.0   2.0   3.0   3.0\n",
       "warning  8427.0   1.506705  0.499985   1.0   1.0   2.0   2.0   2.0\n",
       "pair     8427.0   7.557731  4.029571   1.0   4.0   8.0  11.0  14.0"
      ]
     },
     "execution_count": 6,
     "metadata": {},
     "output_type": "execute_result"
    }
   ],
   "source": [
    "df.dropna(inplace=True) # drop all rows with Nan's\n",
    "df.describe().T # basic stats"
   ]
  },
  {
   "cell_type": "code",
   "execution_count": 7,
   "metadata": {},
   "outputs": [
    {
     "name": "stdout",
     "output_type": "stream",
     "text": [
      "<class 'pandas.core.frame.DataFrame'>\n",
      "Int64Index: 8427 entries, 0 to 8436\n",
      "Data columns (total 4 columns):\n",
      "speed      8427 non-null float64\n",
      "period     8427 non-null float64\n",
      "warning    8427 non-null float64\n",
      "pair       8427 non-null float64\n",
      "dtypes: float64(4)\n",
      "memory usage: 329.2 KB\n"
     ]
    }
   ],
   "source": [
    "df.info() # summarize DataFrame object"
   ]
  },
  {
   "cell_type": "markdown",
   "metadata": {},
   "source": [
    "## How equivalent are the Sbj and Ctl locations?\n",
    "\n",
    "We look at the speeds observed for period 1 before any warning signs are erected.  We would expect these to have similar distributions at Sbj and Ctl locations both over all pairs and at each individual pair. To check if this is so, we use the T test from scipy.ttest_ind() to obtain a t-score and probability for each set of Sbj and Ctl speeds that we compare.  Low t-scores and low probabilities indicate that there is no significant difference between the distributions of speeds with a high degree of confidence."
   ]
  },
  {
   "cell_type": "code",
   "execution_count": 8,
   "metadata": {},
   "outputs": [
    {
     "name": "stdout",
     "output_type": "stream",
     "text": [
      "   pair    meanSbj     varSbj    meanCtl     varCtl     tScore        pValue\n",
      "0   all  36.511445  35.860742  38.215462  43.464671  -7.149583  1.109034e-12\n",
      "1     1  34.530000  24.889100  34.170000  27.821100   0.493370  6.222996e-01\n",
      "2     2  38.950000  31.367500  30.250000  15.227500  12.681400  1.262034e-26\n",
      "3     3  32.220000  20.111600  37.950000  33.487500  -7.787418  4.606666e-13\n",
      "4     4  36.414141  32.161820  37.950000  33.487500  -1.881356  6.139869e-02\n",
      "5     5  36.610000  24.497900  38.750000  21.327500  -3.145417  1.915359e-03\n",
      "6     6  40.130000  24.373100  38.750000  21.327500   2.031121  4.358542e-02\n",
      "7     7  29.860000  16.460400  42.140000  22.720400 -19.519978  1.441880e-47\n",
      "8     8  38.350000  24.427500  38.090000  23.421900   0.373984  7.088168e-01\n",
      "9     9  38.050000  25.727500  40.747475  23.845322  -3.802681  1.908872e-04\n",
      "10   10  33.950000  24.387500  34.020000  29.759600  -0.094652  9.246882e-01\n",
      "11   11  34.620000  23.335600  32.181818  14.714417   3.925103  1.215089e-04\n",
      "12   12  38.570000  42.705100  40.860000  27.980400  -2.710116  7.342318e-03\n",
      "13   13  39.620000  36.275600  44.595960  44.543822  -5.491851  1.233370e-07\n",
      "14   14  39.313131  28.013060  44.590000  24.501900  -7.225595  1.085906e-11\n"
     ]
    }
   ],
   "source": [
    "tt=pd.DataFrame(columns=['pair','meanSbj','varSbj','meanCtl','varCtl','tScore','pValue'])\n",
    "a=df.speed[(df.period==1) & (df.warning==1)]\n",
    "b=df.speed[(df.period==1) & (df.warning==2) ]\n",
    "t,p=stats.ttest_ind(a,b,equal_var=(np.var(a)==np.var(b)))\n",
    "tt.loc[0]=['all',np.mean(a),np.var(a),np.mean(b),np.var(b),t,p]\n",
    "for i in range(1,15):\n",
    "      a=df.speed[(df.period==1) & (df.warning==1) & (df.pair==i)]\n",
    "      b=df.speed[(df.period==1) & (df.warning==2) & (df.pair==i)]\n",
    "      t,p=stats.ttest_ind(a,b,equal_var=(np.var(a)==np.var(b)))\n",
    "      tt.loc[i]=[i,np.mean(a),np.var(a),np.mean(b),np.var(b),t,p]\n",
    "print(tt)"
   ]
  },
  {
   "cell_type": "markdown",
   "metadata": {},
   "source": [
    "## How equivalent are the Sbj and Ctl locations?  Not very.\n",
    "\n",
    "The results don't give us much comfort that locations are equivalent.  Where the t-scores are low, the probabilities are high, indicating that the t-score well could have resulted from chance.\n",
    "\n",
    "With a few modifications, we can use the same code to compare the Ctl locations at the other different periods:\n",
    "\n"
   ]
  },
  {
   "cell_type": "code",
   "execution_count": 9,
   "metadata": {},
   "outputs": [
    {
     "name": "stdout",
     "output_type": "stream",
     "text": [
      "   pair  meanCtlp1   varCtlp1  meanCtlp2   varCtlp2    tScore        pValue\n",
      "0   all  38.215462  43.464671  39.148069  46.031724 -3.683991  2.339718e-04\n",
      "1     1  34.170000  27.821100  38.650000  29.787500 -5.872891  1.784015e-08\n",
      "2     2  30.250000  15.227500  35.000000  34.620000 -6.694059  2.184098e-10\n",
      "3     3  37.950000  33.487500  36.490000  41.649900  1.675878  9.534046e-02\n",
      "4     4  37.950000  33.487500  36.490000  41.649900  1.675878  9.534046e-02\n",
      "5     5  38.750000  21.327500  38.790000  23.525900 -0.059426  9.526724e-01\n",
      "6     6  38.750000  21.327500  38.717172  23.233139  0.048802  9.611266e-01\n",
      "7     7  42.140000  22.720400  42.190000  22.373900 -0.074084  9.410180e-01\n",
      "8     8  38.090000  23.421900  36.910000  21.941900  1.743191  8.285262e-02\n",
      "9     9  40.747475  23.845322  37.470000  15.349100  5.192792  5.368904e-07\n",
      "10   10  34.020000  29.759600  35.070000  28.365100 -1.370334  1.721342e-01\n",
      "11   11  32.181818  14.714417  35.120000  18.205600 -5.083679  8.642779e-07\n",
      "12   12  40.860000  27.980400  43.520000  26.749600 -3.577557  4.360229e-04\n",
      "13   13  44.595960  44.543822  49.575758  61.193756 -4.794133  3.224433e-06\n",
      "14   14  44.590000  24.501900  44.180000  21.807600  0.599469  5.495458e-01\n"
     ]
    }
   ],
   "source": [
    "tt=pd.DataFrame(columns=['pair','meanCtlp1','varCtlp1','meanCtlp2','varCtlp2','tScore','pValue'])\n",
    "a=df.speed[(df.period==1) & (df.warning==2)]\n",
    "b=df.speed[(df.period==2) & (df.warning==2) ]\n",
    "t,p=stats.ttest_ind(a,b,equal_var=(len(a)==len(b)))\n",
    "tt.loc[0]=['all',np.mean(a),np.var(a),np.mean(b),np.var(b),t,p]\n",
    "for i in range(1,15):\n",
    "      a=df.speed[(df.period==1) & (df.warning==2) & (df.pair==i)]\n",
    "      b=df.speed[(df.period==2) & (df.warning==2) & (df.pair==i)]\n",
    "      t,p=stats.ttest_ind(a,b,equal_var=(len(a)==len(b)))\n",
    "      tt.loc[i]=[i,np.mean(a),np.var(a),np.mean(b),np.var(b),t,p]\n",
    "print(tt)"
   ]
  },
  {
   "cell_type": "markdown",
   "metadata": {},
   "source": [
    "Again, the T-test shows either a significant difference between the observed speeds at periods 1 and 2 in the Ctl locations, or less significant differences of low confidence.   There could be many factors (ie. season, weather, time of day) that could affect this but these are not detailed.\n",
    "\n",
    "For completeness we can compare the Ctl locations speed distributions for periods 1 and 3 and for periods 2 and 3:"
   ]
  },
  {
   "cell_type": "code",
   "execution_count": 10,
   "metadata": {},
   "outputs": [
    {
     "name": "stdout",
     "output_type": "stream",
     "text": [
      "   pair  meanCtlp1   varCtlp1  meanCtlp3   varCtlp3    tScore        pValue\n",
      "0   all  38.215462  43.464671  39.536949  40.319143 -5.464206  5.051825e-08\n",
      "1     1  34.170000  27.821100  36.260000  30.852400 -2.714832  7.216597e-03\n",
      "2     2  30.250000  15.227500  35.820000  25.087600 -8.728486  1.068977e-15\n",
      "3     3  37.950000  33.487500  38.560000  25.666400 -0.789143  4.309723e-01\n",
      "4     4  37.950000  33.487500  36.000000  27.505882  2.389971  1.786965e-02\n",
      "5     5  38.750000  21.327500  40.510000  21.309900 -2.681853  7.939732e-03\n",
      "6     6  38.750000  21.327500  41.360000  28.670400 -3.672673  3.088070e-04\n",
      "7     7  42.140000  22.720400  41.450000  22.387500  1.022211  3.079285e-01\n",
      "8     8  38.090000  23.421900  40.070000  40.445100 -2.465157  1.454676e-02\n",
      "9     9  40.747475  23.845322  38.200000  19.820000  3.825185  1.758446e-04\n",
      "10   10  34.020000  29.759600  38.688889  43.836543 -5.242477  4.579283e-07\n",
      "11   11  32.181818  14.714417  35.100000  20.430000 -5.803832  2.178506e-08\n",
      "12   12  40.860000  27.980400  43.080000  28.313600 -2.944012  3.627329e-03\n",
      "13   13  44.595960  44.543822  45.030000  25.689100 -0.513661  6.081092e-01\n",
      "14   14  44.590000  24.501900  47.210000  35.005900 -3.379340  8.750512e-04\n"
     ]
    }
   ],
   "source": [
    "tt=pd.DataFrame(columns=['pair','meanCtlp1','varCtlp1','meanCtlp3','varCtlp3','tScore','pValue'])\n",
    "a=df.speed[(df.period==1) & (df.warning==2)]\n",
    "b=df.speed[(df.period==3) & (df.warning==2) ]\n",
    "t,p=stats.ttest_ind(a,b,equal_var=(len(a)==len(b)))\n",
    "tt.loc[0]=['all',np.mean(a),np.var(a),np.mean(b),np.var(b),t,p]\n",
    "for i in range(1,15):\n",
    "      a=df.speed[(df.period==1) & (df.warning==2) & (df.pair==i)]\n",
    "      b=df.speed[(df.period==3) & (df.warning==2) & (df.pair==i)]\n",
    "      t,p=stats.ttest_ind(a,b,equal_var=(len(a)==len(b)))\n",
    "      tt.loc[i]=[i,np.mean(a),np.var(a),np.mean(b),np.var(b),t,p]\n",
    "print(tt)"
   ]
  },
  {
   "cell_type": "code",
   "execution_count": 11,
   "metadata": {},
   "outputs": [
    {
     "name": "stdout",
     "output_type": "stream",
     "text": [
      "   pair  meanCtlp2   varCtlp2  meanCtlp3   varCtlp3    tScore    pValue\n",
      "0   all  39.148069  46.031724  39.536949  40.319143 -1.583592  0.113398\n",
      "1     1  38.650000  29.787500  36.260000  30.852400  3.053770  0.002571\n",
      "2     2  35.000000  34.620000  35.820000  25.087600 -1.055885  0.292307\n",
      "3     3  36.490000  41.649900  38.560000  25.666400 -2.510313  0.012863\n",
      "4     4  36.490000  41.649900  36.000000  27.505882  0.566500  0.571750\n",
      "5     5  38.790000  23.525900  40.510000  21.309900 -2.555840  0.011343\n",
      "6     6  38.717172  23.233139  41.360000  28.670400 -3.641652  0.000347\n",
      "7     7  42.190000  22.373900  41.450000  22.387500  1.100519  0.272442\n",
      "8     8  36.910000  21.941900  40.070000  40.445100 -3.980683  0.000096\n",
      "9     9  37.470000  15.349100  38.200000  19.820000 -1.224785  0.222111\n",
      "10   10  35.070000  28.365100  38.688889  43.836543 -4.100052  0.000064\n",
      "11   11  35.120000  18.205600  35.100000  20.430000  0.037361  0.970233\n",
      "12   12  43.520000  26.749600  43.080000  28.313600  0.589983  0.555875\n",
      "13   13  49.575758  61.193756  45.030000  25.689100  4.835059  0.000003\n",
      "14   14  44.180000  21.807600  47.210000  35.005900 -3.999765  0.000090\n"
     ]
    }
   ],
   "source": [
    "tt=pd.DataFrame(columns=['pair','meanCtlp2','varCtlp2','meanCtlp3','varCtlp3','tScore','pValue'])\n",
    "a=df.speed[(df.period==2) & (df.warning==2)]\n",
    "b=df.speed[(df.period==3) & (df.warning==2) ]\n",
    "t,p=stats.ttest_ind(a,b,equal_var=(len(a)==len(b)))\n",
    "tt.loc[0]=['all',np.mean(a),np.var(a),np.mean(b),np.var(b),t,p]\n",
    "for i in range(1,15):\n",
    "      a=df.speed[(df.period==2) & (df.warning==2) & (df.pair==i)]\n",
    "      b=df.speed[(df.period==3) & (df.warning==2) & (df.pair==i)]\n",
    "      t,p=stats.ttest_ind(a,b,equal_var=(len(a)==len(b)))\n",
    "      tt.loc[i]=[i,np.mean(a),np.var(a),np.mean(b),np.var(b),t,p]\n",
    "print(tt)"
   ]
  },
  {
   "cell_type": "markdown",
   "metadata": {},
   "source": [
    "Again, the results are not impressive for what would like to see in a control set. As before the differences may originate from factors of which we have no clue."
   ]
  },
  {
   "cell_type": "markdown",
   "metadata": {},
   "source": [
    "# Graphical Presentation of the Data\n",
    "\n",
    "## Reshaping the Data\n",
    "Currently data are represented in long format the rows have very different meanings.  This makes it difficult to plot and analyse.  We want to reshape them in a wider, more convenient form.  This would take the form of a new dataframe where each row will have these columns:\n",
    "    \n",
    "####  pair \n",
    "* The numeric id of an 'equivalent' Sbj/Ctl pair where, as above, the Sbj location will have a warning sign installed while the Ctl location will not.\n",
    "\n",
    "#### SbjBefore\n",
    "* The speed observed at the Sbj location before the warning sign was installed.\n",
    "\n",
    "#### SbjAfter\n",
    "* The speed observed at the Sbj location shortly after the warning sign was installed.\n",
    "\n",
    "#### SbjLongAfter\n",
    "* The speed observed at the Sbj location long after the warning sign was installed.\n",
    "\n",
    "#### CtlBefore\n",
    "* The speed observed at the Ctl location before the warning sign was installed at the Sbj location.\n",
    "\n",
    "#### CtlAfter\n",
    "* The speed observed at the Ctl location shortly after the warning sign was installed at the Sbj location.\n",
    "\n",
    "#### CtlLongAfter\n",
    "* The speed observed at the Ctl location long after the warning sign was installed at the Sbj location.\n",
    "\n"
   ]
  },
  {
   "cell_type": "markdown",
   "metadata": {},
   "source": [
    "### Count the number of observations of each kind\n",
    "\n",
    "This requires an equal number of observations across all columns.  We know from the data description that attempted to collect 100 observations at each period at both locations in each pair, but that they fell short of this in a number of locations.  Additionally we aggravated this by introducing and eliminating Nan's in the data by dropping the rows that contained them.\n",
    "\n",
    "Our first step is to see the extent of the problems by counting the observations in our current dataframe, df, for every combination of pair, warning, and period:"
   ]
  },
  {
   "cell_type": "code",
   "execution_count": 12,
   "metadata": {},
   "outputs": [
    {
     "name": "stdout",
     "output_type": "stream",
     "text": [
      "    pair  SbjBefore  SbjAfter  SbjLongAfter  CtlBefore  CtlAfter  CtlLongAfter\n",
      "0    1.0      100.0      99.0          99.0      100.0     100.0         100.0\n",
      "1    2.0      100.0     100.0         100.0      100.0     100.0         100.0\n",
      "2    3.0      100.0     100.0          97.0      100.0     100.0         100.0\n",
      "3    4.0       99.0     100.0          82.0      100.0     100.0          85.0\n",
      "4    5.0      100.0     100.0          83.0      100.0     100.0         100.0\n",
      "5    6.0      100.0     100.0         100.0      100.0      99.0         100.0\n",
      "6    7.0      100.0     100.0         100.0      100.0     100.0         100.0\n",
      "7    8.0      100.0     100.0         100.0      100.0     100.0         100.0\n",
      "8    9.0      100.0     100.0         100.0       99.0     100.0         100.0\n",
      "9   10.0      100.0     100.0         100.0      100.0     100.0          90.0\n",
      "10  11.0      100.0     100.0         100.0       99.0     100.0         200.0\n",
      "11  12.0      100.0     100.0         100.0      100.0     100.0         100.0\n",
      "12  13.0      100.0     100.0          99.0       99.0      99.0         100.0\n",
      "13  14.0       99.0     100.0         100.0      100.0     100.0         100.0\n"
     ]
    }
   ],
   "source": [
    "cc=pd.DataFrame(columns=['pair','SbjBefore','SbjAfter','SbjLongAfter','CtlBefore','CtlAfter','CtlLongAfter'])\n",
    "template=pd.DataFrame(np.zeros([1,len(cc.columns)]),columns=cc.columns,index=[0])\n",
    "\n",
    "for p in range(1,15):\n",
    "    cc=pd.concat([cc,template],ignore_index=True)\n",
    "    cc.iloc[p-1].pair=p\n",
    "    cc.iloc[p-1].SbjBefore=len(df.pair[(df.pair==p)&(df.warning==1)&(df.period==1)])\n",
    "    cc.iloc[p-1].SbjAfter=len(df.pair[(df.pair==p)&(df.warning==1)&(df.period==2)])\n",
    "    cc.iloc[p-1].SbjLongAfter=len(df.pair[(df.pair==p)&(df.warning==1)&(df.period==3)])\n",
    "\n",
    "    cc.iloc[p-1].CtlBefore=len(df.pair[(df.pair==p)&(df.warning==2)&(df.period==1)])\n",
    "    cc.iloc[p-1].CtlAfter=len(df.pair[(df.pair==p)&(df.warning==2)&(df.period==2)])\n",
    "    cc.iloc[p-1].CtlLongAfter=len(df.pair[(df.pair==p)&(df.warning==2)&(df.period==3)])\n",
    "\n",
    "print(cc)\n",
    "\n",
    "\n",
    "    \n",
    "    \n"
   ]
  },
  {
   "cell_type": "code",
   "execution_count": 13,
   "metadata": {},
   "outputs": [],
   "source": [
    "#"
   ]
  },
  {
   "cell_type": "markdown",
   "metadata": {},
   "source": [
    "### Wherever there are not 100 observations of speed we want to stretch out or shrink what is there.\n",
    "\n",
    "We create a function to do this using scipy's interpolate package:"
   ]
  },
  {
   "cell_type": "code",
   "execution_count": 14,
   "metadata": {},
   "outputs": [],
   "source": [
    "import scipy.interpolate as interp #  library for interpolating arrays\n",
    "\n",
    "def stretchShrink(ar, size):\n",
    "     ar=np.sort(ar)\n",
    "     if len(ar)==size:\n",
    "         return ar \n",
    "     arInterp=interp.interp1d(np.arange(len(ar)),ar)\n",
    "     return arInterp(np.linspace(0,len(ar)-1,size))\n"
   ]
  },
  {
   "cell_type": "markdown",
   "metadata": {},
   "source": [
    "#### Build a skeleton for the new dataframe"
   ]
  },
  {
   "cell_type": "code",
   "execution_count": 15,
   "metadata": {},
   "outputs": [
    {
     "data": {
      "text/html": [
       "<div>\n",
       "<style scoped>\n",
       "    .dataframe tbody tr th:only-of-type {\n",
       "        vertical-align: middle;\n",
       "    }\n",
       "\n",
       "    .dataframe tbody tr th {\n",
       "        vertical-align: top;\n",
       "    }\n",
       "\n",
       "    .dataframe thead th {\n",
       "        text-align: right;\n",
       "    }\n",
       "</style>\n",
       "<table border=\"1\" class=\"dataframe\">\n",
       "  <thead>\n",
       "    <tr style=\"text-align: right;\">\n",
       "      <th></th>\n",
       "      <th>pair</th>\n",
       "      <th>SbjBefore</th>\n",
       "      <th>SbjAfter</th>\n",
       "      <th>SbjLongAfter</th>\n",
       "      <th>CtlBefore</th>\n",
       "      <th>CtlAfter</th>\n",
       "      <th>CtlLongAfter</th>\n",
       "    </tr>\n",
       "  </thead>\n",
       "  <tbody>\n",
       "    <tr>\n",
       "      <th>count</th>\n",
       "      <td>1400.000000</td>\n",
       "      <td>1400.0</td>\n",
       "      <td>1400.0</td>\n",
       "      <td>1400.0</td>\n",
       "      <td>1400.0</td>\n",
       "      <td>1400.0</td>\n",
       "      <td>1400.0</td>\n",
       "    </tr>\n",
       "    <tr>\n",
       "      <th>mean</th>\n",
       "      <td>7.500000</td>\n",
       "      <td>0.0</td>\n",
       "      <td>0.0</td>\n",
       "      <td>0.0</td>\n",
       "      <td>0.0</td>\n",
       "      <td>0.0</td>\n",
       "      <td>0.0</td>\n",
       "    </tr>\n",
       "    <tr>\n",
       "      <th>std</th>\n",
       "      <td>4.032569</td>\n",
       "      <td>0.0</td>\n",
       "      <td>0.0</td>\n",
       "      <td>0.0</td>\n",
       "      <td>0.0</td>\n",
       "      <td>0.0</td>\n",
       "      <td>0.0</td>\n",
       "    </tr>\n",
       "    <tr>\n",
       "      <th>min</th>\n",
       "      <td>1.000000</td>\n",
       "      <td>0.0</td>\n",
       "      <td>0.0</td>\n",
       "      <td>0.0</td>\n",
       "      <td>0.0</td>\n",
       "      <td>0.0</td>\n",
       "      <td>0.0</td>\n",
       "    </tr>\n",
       "    <tr>\n",
       "      <th>25%</th>\n",
       "      <td>4.000000</td>\n",
       "      <td>0.0</td>\n",
       "      <td>0.0</td>\n",
       "      <td>0.0</td>\n",
       "      <td>0.0</td>\n",
       "      <td>0.0</td>\n",
       "      <td>0.0</td>\n",
       "    </tr>\n",
       "    <tr>\n",
       "      <th>50%</th>\n",
       "      <td>7.500000</td>\n",
       "      <td>0.0</td>\n",
       "      <td>0.0</td>\n",
       "      <td>0.0</td>\n",
       "      <td>0.0</td>\n",
       "      <td>0.0</td>\n",
       "      <td>0.0</td>\n",
       "    </tr>\n",
       "    <tr>\n",
       "      <th>75%</th>\n",
       "      <td>11.000000</td>\n",
       "      <td>0.0</td>\n",
       "      <td>0.0</td>\n",
       "      <td>0.0</td>\n",
       "      <td>0.0</td>\n",
       "      <td>0.0</td>\n",
       "      <td>0.0</td>\n",
       "    </tr>\n",
       "    <tr>\n",
       "      <th>max</th>\n",
       "      <td>14.000000</td>\n",
       "      <td>0.0</td>\n",
       "      <td>0.0</td>\n",
       "      <td>0.0</td>\n",
       "      <td>0.0</td>\n",
       "      <td>0.0</td>\n",
       "      <td>0.0</td>\n",
       "    </tr>\n",
       "  </tbody>\n",
       "</table>\n",
       "</div>"
      ],
      "text/plain": [
       "              pair  SbjBefore  SbjAfter  SbjLongAfter  CtlBefore  CtlAfter  \\\n",
       "count  1400.000000     1400.0    1400.0        1400.0     1400.0    1400.0   \n",
       "mean      7.500000        0.0       0.0           0.0        0.0       0.0   \n",
       "std       4.032569        0.0       0.0           0.0        0.0       0.0   \n",
       "min       1.000000        0.0       0.0           0.0        0.0       0.0   \n",
       "25%       4.000000        0.0       0.0           0.0        0.0       0.0   \n",
       "50%       7.500000        0.0       0.0           0.0        0.0       0.0   \n",
       "75%      11.000000        0.0       0.0           0.0        0.0       0.0   \n",
       "max      14.000000        0.0       0.0           0.0        0.0       0.0   \n",
       "\n",
       "       CtlLongAfter  \n",
       "count        1400.0  \n",
       "mean            0.0  \n",
       "std             0.0  \n",
       "min             0.0  \n",
       "25%             0.0  \n",
       "50%             0.0  \n",
       "75%             0.0  \n",
       "max             0.0  "
      ]
     },
     "execution_count": 15,
     "metadata": {},
     "output_type": "execute_result"
    }
   ],
   "source": [
    "tidyDf=pd.concat([template]*(14*100),ignore_index=True) # shape 1400x7\n",
    "tidyDf.pair=np.repeat(np.arange(14)+1,100)  # allocate 100 rows for each pair\n",
    "tidyDf.describe()"
   ]
  },
  {
   "cell_type": "markdown",
   "metadata": {},
   "source": [
    "#### Populate tidyDf with speed values for Sbj and Ctl for each pair:"
   ]
  },
  {
   "cell_type": "code",
   "execution_count": 16,
   "metadata": {
    "scrolled": true
   },
   "outputs": [
    {
     "data": {
      "text/html": [
       "<div>\n",
       "<style scoped>\n",
       "    .dataframe tbody tr th:only-of-type {\n",
       "        vertical-align: middle;\n",
       "    }\n",
       "\n",
       "    .dataframe tbody tr th {\n",
       "        vertical-align: top;\n",
       "    }\n",
       "\n",
       "    .dataframe thead th {\n",
       "        text-align: right;\n",
       "    }\n",
       "</style>\n",
       "<table border=\"1\" class=\"dataframe\">\n",
       "  <thead>\n",
       "    <tr style=\"text-align: right;\">\n",
       "      <th></th>\n",
       "      <th>pair</th>\n",
       "      <th>SbjBefore</th>\n",
       "      <th>SbjAfter</th>\n",
       "      <th>SbjLongAfter</th>\n",
       "      <th>CtlBefore</th>\n",
       "      <th>CtlAfter</th>\n",
       "      <th>CtlLongAfter</th>\n",
       "    </tr>\n",
       "  </thead>\n",
       "  <tbody>\n",
       "    <tr>\n",
       "      <th>count</th>\n",
       "      <td>1400.000000</td>\n",
       "      <td>1400.000000</td>\n",
       "      <td>1400.000000</td>\n",
       "      <td>1400.000000</td>\n",
       "      <td>1400.000000</td>\n",
       "      <td>1400.000000</td>\n",
       "      <td>1400.000000</td>\n",
       "    </tr>\n",
       "    <tr>\n",
       "      <th>mean</th>\n",
       "      <td>7.500000</td>\n",
       "      <td>36.513377</td>\n",
       "      <td>35.773593</td>\n",
       "      <td>37.648470</td>\n",
       "      <td>38.217518</td>\n",
       "      <td>39.155209</td>\n",
       "      <td>39.810678</td>\n",
       "    </tr>\n",
       "    <tr>\n",
       "      <th>std</th>\n",
       "      <td>4.032569</td>\n",
       "      <td>5.989907</td>\n",
       "      <td>6.100189</td>\n",
       "      <td>6.356963</td>\n",
       "      <td>6.596591</td>\n",
       "      <td>6.792004</td>\n",
       "      <td>6.353256</td>\n",
       "    </tr>\n",
       "    <tr>\n",
       "      <th>min</th>\n",
       "      <td>1.000000</td>\n",
       "      <td>22.000000</td>\n",
       "      <td>19.000000</td>\n",
       "      <td>20.000000</td>\n",
       "      <td>20.000000</td>\n",
       "      <td>22.000000</td>\n",
       "      <td>22.000000</td>\n",
       "    </tr>\n",
       "    <tr>\n",
       "      <th>25%</th>\n",
       "      <td>4.000000</td>\n",
       "      <td>32.000000</td>\n",
       "      <td>31.000000</td>\n",
       "      <td>33.000000</td>\n",
       "      <td>34.000000</td>\n",
       "      <td>34.000000</td>\n",
       "      <td>35.000000</td>\n",
       "    </tr>\n",
       "    <tr>\n",
       "      <th>50%</th>\n",
       "      <td>7.500000</td>\n",
       "      <td>36.000000</td>\n",
       "      <td>35.000000</td>\n",
       "      <td>37.000000</td>\n",
       "      <td>38.000000</td>\n",
       "      <td>38.000000</td>\n",
       "      <td>39.000000</td>\n",
       "    </tr>\n",
       "    <tr>\n",
       "      <th>75%</th>\n",
       "      <td>11.000000</td>\n",
       "      <td>40.000000</td>\n",
       "      <td>40.000000</td>\n",
       "      <td>42.000000</td>\n",
       "      <td>42.000000</td>\n",
       "      <td>43.000000</td>\n",
       "      <td>44.000000</td>\n",
       "    </tr>\n",
       "    <tr>\n",
       "      <th>max</th>\n",
       "      <td>14.000000</td>\n",
       "      <td>58.000000</td>\n",
       "      <td>63.000000</td>\n",
       "      <td>60.000000</td>\n",
       "      <td>65.000000</td>\n",
       "      <td>67.000000</td>\n",
       "      <td>61.000000</td>\n",
       "    </tr>\n",
       "  </tbody>\n",
       "</table>\n",
       "</div>"
      ],
      "text/plain": [
       "              pair    SbjBefore     SbjAfter  SbjLongAfter    CtlBefore  \\\n",
       "count  1400.000000  1400.000000  1400.000000   1400.000000  1400.000000   \n",
       "mean      7.500000    36.513377    35.773593     37.648470    38.217518   \n",
       "std       4.032569     5.989907     6.100189      6.356963     6.596591   \n",
       "min       1.000000    22.000000    19.000000     20.000000    20.000000   \n",
       "25%       4.000000    32.000000    31.000000     33.000000    34.000000   \n",
       "50%       7.500000    36.000000    35.000000     37.000000    38.000000   \n",
       "75%      11.000000    40.000000    40.000000     42.000000    42.000000   \n",
       "max      14.000000    58.000000    63.000000     60.000000    65.000000   \n",
       "\n",
       "          CtlAfter  CtlLongAfter  \n",
       "count  1400.000000   1400.000000  \n",
       "mean     39.155209     39.810678  \n",
       "std       6.792004      6.353256  \n",
       "min      22.000000     22.000000  \n",
       "25%      34.000000     35.000000  \n",
       "50%      38.000000     39.000000  \n",
       "75%      43.000000     44.000000  \n",
       "max      67.000000     61.000000  "
      ]
     },
     "execution_count": 16,
     "metadata": {},
     "output_type": "execute_result"
    }
   ],
   "source": [
    "for p in range(1,15):\n",
    "    tidyDf.loc[tidyDf.pair==p,'SbjBefore']=stretchShrink(df[(df.pair==p)&(df.period==1)&(df.warning==1)].speed,100)\n",
    "    tidyDf.loc[tidyDf.pair==p,'SbjAfter']=stretchShrink(df[(df.pair==p)&(df.period==2)&(df.warning==1)].speed,100)\n",
    "    tidyDf.loc[tidyDf.pair==p,'SbjLongAfter']=stretchShrink(df[(df.pair==p)&(df.period==3)&(df.warning==1)].speed,100)\n",
    "    tidyDf.loc[tidyDf.pair==p,'CtlBefore']=stretchShrink(df[(df.pair==p)&(df.period==1)&(df.warning==2)].speed,100)\n",
    "    tidyDf.loc[tidyDf.pair==p,'CtlAfter']=stretchShrink(df[(df.pair==p)&(df.period==2)&(df.warning==2)].speed,100)\n",
    "    tidyDf.loc[tidyDf.pair==p,'CtlLongAfter']=stretchShrink(df[(df.pair==p)&(df.period==3)&(df.warning==2)].speed,100)\n",
    "\n",
    "tidyDf.describe()\n",
    "\n",
    "\n"
   ]
  },
  {
   "cell_type": "markdown",
   "metadata": {},
   "source": [
    "### How far wrong is it to stretch or shrink the original number of observations?\n",
    "#### We apply t-tests to see how far different they are:"
   ]
  },
  {
   "cell_type": "code",
   "execution_count": 17,
   "metadata": {},
   "outputs": [
    {
     "name": "stdout",
     "output_type": "stream",
     "text": [
      "pair: 1 SbjAfter orig len 99 0.0 1.0\n",
      "pair: 1 SbjLongAfter orig len 99 0.0 1.0\n",
      "pair: 3 SbjLongAfter orig len 97 0.00021170846811282768 0.9998312975061728\n",
      "pair: 4 SbjBefore orig len 99 0.0 1.0\n",
      "pair: 4 SbjLongAfter orig len 82 -0.0024918436261811656 0.9980145579717439\n",
      "pair: 4 CtlLongAfter orig len 85 -0.0035126669698047988 0.9972011292405271\n",
      "pair: 5 SbjLongAfter orig len 83 0.0015727246399194629 0.9987468798276018\n",
      "pair: 6 CtlAfter orig len 99 0.0 1.0\n",
      "pair: 9 CtlBefore orig len 99 -1.0214557706264586e-14 0.9999999999999918\n",
      "pair: 10 CtlLongAfter orig len 90 -0.0012550004374465686 0.9989999854762568\n",
      "pair: 11 CtlBefore orig len 99 0.0 1.0\n",
      "pair: 11 CtlLongAfter orig len 200 0.02593138421425135 0.9793294235844308\n",
      "pair: 13 SbjLongAfter orig len 99 -1.263363252364776e-14 0.99999999999999\n",
      "pair: 13 CtlBefore orig len 99 -7.472980329876802e-15 0.999999999999994\n",
      "pair: 13 CtlAfter orig len 99 0.0 1.0\n",
      "pair: 14 SbjBefore orig len 99 0.0 1.0\n"
     ]
    }
   ],
   "source": [
    "def doTtest(pair,tidyName,dfColumn):\n",
    "    if len(dfColumn)==100:\n",
    "        return False\n",
    "    a=tidyDf.loc[tidyDf.pair==pair,tidyName]\n",
    "    tscore,pval=stats.ttest_ind(a,dfColumn)\n",
    "    print('pair:',pair,tidyName,'orig len',len(dfColumn),tscore,pval)\n",
    "    return  True\n",
    "#\n",
    "for p in range(1,15):\n",
    "    doTtest(p,'SbjBefore',df[(df.pair==p)&(df.period==1)&(df.warning==1)].speed)\n",
    "    doTtest(p,'SbjAfter',df[(df.pair==p)&(df.period==2)&(df.warning==1)].speed)\n",
    "    doTtest(p,'SbjLongAfter',df[(df.pair==p)&(df.period==3)&(df.warning==1)].speed)\n",
    "#\n",
    "    doTtest(p,'CtlBefore',df[(df.pair==p)&(df.period==1)&(df.warning==2)].speed)\n",
    "    doTtest(p,'CtlAfter',df[(df.pair==p)&(df.period==2)&(df.warning==2)].speed)\n",
    "    doTtest(p,'CtlLongAfter',df[(df.pair==p)&(df.period==3)&(df.warning==2)].speed)\n"
   ]
  },
  {
   "cell_type": "markdown",
   "metadata": {},
   "source": [
    "### Plot histograms of the worst case Pair 11, CtlLongAfter"
   ]
  },
  {
   "cell_type": "code",
   "execution_count": 18,
   "metadata": {},
   "outputs": [
    {
     "data": {
      "text/plain": [
       "<matplotlib.legend.Legend at 0x7fad8c2bf2b0>"
      ]
     },
     "execution_count": 18,
     "metadata": {},
     "output_type": "execute_result"
    },
    {
     "data": {
      "image/png": "[encoded data removed]",
      "text/plain": [
       "<Figure size 432x288 with 1 Axes>"
      ]
     },
     "metadata": {
      "needs_background": "light"
     },
     "output_type": "display_data"
    }
   ],
   "source": [
    "fig, ax = plt.subplots()\n",
    "\n",
    "ax.set_title('Speed distributions in pair 11 CtlLongAfter')\n",
    "ax.set_xlabel('speeds in mph before (blue) and after (green) shrinking')\n",
    "ax.set_ylabel('count')\n",
    "a=ax.hist(df[(df.pair==11) & (df.period==3)&(df.warning==2)].speed,label='df', bins=20,alpha=.75)\n",
    "a=ax.hist(tidyDf.loc[tidyDf.pair==11].CtlLongAfter, label='tidyDf',bins=20,alpha=0.75)\n",
    "ax.legend()\n"
   ]
  },
  {
   "cell_type": "markdown",
   "metadata": {},
   "source": [
    "## Overall, did vehicles slow down after warning signs went up?\n",
    "\n",
    "#### We plot the histograms of tidyDf.SbjBefore - tidyDf.SbjAfter and tidyDf.SbjBefore -tidyDf.SbjLongAfter"
   ]
  },
  {
   "cell_type": "code",
   "execution_count": 19,
   "metadata": {},
   "outputs": [
    {
     "data": {
      "image/png": "[encoded data removed]",
      "text/plain": [
       "<Figure size 432x288 with 1 Axes>"
      ]
     },
     "metadata": {
      "needs_background": "light"
     },
     "output_type": "display_data"
    }
   ],
   "source": [
    "\n",
    "fig, ax = plt.subplots()\n",
    "\n",
    "ax.set_title('After warning sign installed')\n",
    "ax.set_xlabel('speed difference in mph')\n",
    "ax.set_ylabel('count')\n",
    "a=ax.hist(tidyDf.SbjBefore - tidyDf.SbjAfter, bins=20,alpha=0.75)\n"
   ]
  },
  {
   "cell_type": "code",
   "execution_count": 20,
   "metadata": {},
   "outputs": [
    {
     "data": {
      "image/png": "[encoded data removed]",
      "text/plain": [
       "<Figure size 432x288 with 1 Axes>"
      ]
     },
     "metadata": {
      "needs_background": "light"
     },
     "output_type": "display_data"
    }
   ],
   "source": [
    "fig, ax = plt.subplots()\n",
    "\n",
    "ax.set_title('Long after warning sign installed')\n",
    "ax.set_xlabel('speed difference in mph')\n",
    "ax.set_ylabel('count')\n",
    "a=ax.hist(tidyDf.SbjBefore - tidyDf.SbjLongAfter, bins=20,alpha=0.5)"
   ]
  },
  {
   "cell_type": "markdown",
   "metadata": {},
   "source": [
    "## And we look at the scatter plots"
   ]
  },
  {
   "cell_type": "code",
   "execution_count": 21,
   "metadata": {},
   "outputs": [
    {
     "data": {
      "image/png": "[encoded data removed]",
      "text/plain": [
       "<Figure size 432x288 with 1 Axes>"
      ]
     },
     "metadata": {
      "needs_background": "light"
     },
     "output_type": "display_data"
    },
    {
     "name": "stdout",
     "output_type": "stream",
     "text": [
      "slope of regression line:  0.8958181592340537\n"
     ]
    }
   ],
   "source": [
    "from numpy.polynomial.polynomial import polyfit\n",
    "\n",
    "# Fit with polyfit\n",
    "b, m = polyfit(tidyDf.SbjBefore,tidyDf.SbjAfter, 1)\n",
    "\n",
    "fig=plt.figure()\n",
    "fig.suptitle('scatter plot with regression line for all subject locations')\n",
    "plt.xlabel('speed before warning sign installed (mph)')\n",
    "plt.ylabel('speed after warning sign installed (mph)')\n",
    "plt.plot(tidyDf.SbjBefore,tidyDf.SbjAfter, '.')\n",
    "plt.plot(tidyDf.SbjBefore, b + m * tidyDf.SbjBefore, '-')\n",
    "plt.show()\n",
    "print(\"slope of regression line: \",m)\n"
   ]
  },
  {
   "cell_type": "code",
   "execution_count": 22,
   "metadata": {},
   "outputs": [
    {
     "data": {
      "image/png": "[encoded data removed]",
      "text/plain": [
       "<Figure size 432x288 with 1 Axes>"
      ]
     },
     "metadata": {
      "needs_background": "light"
     },
     "output_type": "display_data"
    },
    {
     "name": "stdout",
     "output_type": "stream",
     "text": [
      "slope of regression line:  1.0142353114232137\n"
     ]
    }
   ],
   "source": [
    "from numpy.polynomial.polynomial import polyfit\n",
    "\n",
    "# Fit with polyfit\n",
    "b, m = polyfit(tidyDf.SbjBefore,tidyDf.SbjLongAfter, 1)\n",
    "\n",
    "fig=plt.figure()\n",
    "fig.suptitle('scatter plot with regression line for all subject locations')\n",
    "plt.xlabel('speed before warning sign installed (mph)')\n",
    "plt.ylabel('speed long after warning sign installed (mph)')\n",
    "plt.plot(tidyDf.SbjBefore,tidyDf.SbjLongAfter, '.')\n",
    "plt.plot(tidyDf.SbjBefore, b + m * tidyDf.SbjBefore, '-')\n",
    "plt.show()\n",
    "print(\"slope of regression line: \",m)"
   ]
  },
  {
   "cell_type": "markdown",
   "metadata": {},
   "source": [
    "## For good measure, we apply t-tests"
   ]
  },
  {
   "cell_type": "code",
   "execution_count": 23,
   "metadata": {},
   "outputs": [
    {
     "name": "stdout",
     "output_type": "stream",
     "text": [
      "t-test All locations: speed before : speed after 3.237694499415174 0.001219074657670658\n",
      "t-test All locations: speed before : speed long after -4.86252719328852 1.2230391456197594e-06\n"
     ]
    }
   ],
   "source": [
    "t,p=stats.ttest_ind(tidyDf.SbjBefore,tidyDf.SbjAfter,equal_var=True)\n",
    "print('t-test All locations: speed before : speed after',t,p)\n",
    "\n",
    "t,p=stats.ttest_ind(tidyDf.SbjBefore,tidyDf.SbjLongAfter,equal_var=True)\n",
    "print('t-test All locations: speed before : speed long after',t,p)"
   ]
  },
  {
   "cell_type": "markdown",
   "metadata": {},
   "source": [
    "#### Look at the mean, std, and quantiles for each location pair"
   ]
  },
  {
   "cell_type": "code",
   "execution_count": 24,
   "metadata": {
    "scrolled": true
   },
   "outputs": [
    {
     "name": "stdout",
     "output_type": "stream",
     "text": [
      "        pair   SbjBefore    SbjAfter  SbjLongAfter   CtlBefore    CtlAfter  \\\n",
      "count  100.0  100.000000  100.000000    100.000000  100.000000  100.000000   \n",
      "mean     1.0   34.530000   36.030303     34.797980   34.170000   38.650000   \n",
      "std      0.0    5.014031    5.112554      5.093457    5.301143    5.485288   \n",
      "min      1.0   26.000000   26.000000     21.000000   21.000000   28.000000   \n",
      "25%      1.0   31.000000   32.000000     31.939394   31.000000   35.000000   \n",
      "50%      1.0   34.000000   35.752525     34.247475   34.000000   38.000000   \n",
      "75%      1.0   37.250000   39.060606     37.060606   37.000000   42.250000   \n",
      "max      1.0   49.000000   51.000000     51.000000   51.000000   56.000000   \n",
      "\n",
      "       CtlLongAfter  \n",
      "count    100.000000  \n",
      "mean      36.260000  \n",
      "std        5.582476  \n",
      "min       24.000000  \n",
      "25%       32.750000  \n",
      "50%       35.000000  \n",
      "75%       40.000000  \n",
      "max       54.000000  \n",
      "\n",
      "        pair   SbjBefore    SbjAfter  SbjLongAfter   CtlBefore    CtlAfter  \\\n",
      "count  100.0  100.000000  100.000000     100.00000  100.000000  100.000000   \n",
      "mean     2.0   38.950000   38.280000      39.58000   30.250000   35.000000   \n",
      "std      0.0    5.628885    4.146509       4.66922    3.921902    5.913518   \n",
      "min      2.0   25.000000   27.000000      22.00000   22.000000   25.000000   \n",
      "25%      2.0   35.000000   35.000000      37.00000   28.000000   30.750000   \n",
      "50%      2.0   38.000000   38.000000      39.00000   30.000000   34.500000   \n",
      "75%      2.0   42.000000   41.000000      42.00000   33.000000   38.000000   \n",
      "max      2.0   57.000000   51.000000      56.00000   42.000000   52.000000   \n",
      "\n",
      "       CtlLongAfter  \n",
      "count    100.000000  \n",
      "mean      35.820000  \n",
      "std        5.033986  \n",
      "min       25.000000  \n",
      "25%       32.000000  \n",
      "50%       36.000000  \n",
      "75%       40.000000  \n",
      "max       49.000000  \n",
      "\n",
      "        pair   SbjBefore   SbjAfter  SbjLongAfter   CtlBefore    CtlAfter  \\\n",
      "count  100.0  100.000000  100.00000    100.000000  100.000000  100.000000   \n",
      "mean     3.0   32.220000   33.59000     31.773333   37.950000   36.490000   \n",
      "std      0.0    4.507188    4.43151      4.553376    5.815992    6.486186   \n",
      "min      3.0   22.000000   21.00000     22.000000   26.000000   22.000000   \n",
      "25%      3.0   29.000000   31.00000     28.818182   34.000000   32.000000   \n",
      "50%      3.0   32.000000   33.00000     31.000000   37.500000   35.500000   \n",
      "75%      3.0   35.000000   36.00000     35.000000   41.250000   40.000000   \n",
      "max      3.0   44.000000   46.00000     43.000000   55.000000   54.000000   \n",
      "\n",
      "       CtlLongAfter  \n",
      "count    100.000000  \n",
      "mean      38.560000  \n",
      "std        5.091724  \n",
      "min       28.000000  \n",
      "25%       35.000000  \n",
      "50%       38.000000  \n",
      "75%       41.000000  \n",
      "max       52.000000  \n",
      "\n",
      "        pair   SbjBefore    SbjAfter  SbjLongAfter   CtlBefore    CtlAfter  \\\n",
      "count  100.0  100.000000  100.000000    100.000000  100.000000  100.000000   \n",
      "mean     4.0   36.414141   35.950000     35.461818   37.950000   36.490000   \n",
      "std      0.0    5.696526    5.364257      4.288099    5.815992    6.486186   \n",
      "min      4.0   24.000000   27.000000     28.000000   26.000000   22.000000   \n",
      "25%      4.0   32.939394   32.000000     32.340909   34.000000   32.000000   \n",
      "50%      4.0   36.000000   35.000000     35.000000   37.500000   35.500000   \n",
      "75%      4.0   40.000000   39.250000     38.000000   41.250000   40.000000   \n",
      "max      4.0   55.000000   49.000000     48.000000   55.000000   54.000000   \n",
      "\n",
      "       CtlLongAfter  \n",
      "count    100.000000  \n",
      "mean      35.997273  \n",
      "std        5.251766  \n",
      "min       26.000000  \n",
      "25%       32.000000  \n",
      "50%       36.000000  \n",
      "75%       39.159091  \n",
      "max       49.000000  \n",
      "\n",
      "        pair  SbjBefore    SbjAfter  SbjLongAfter   CtlBefore    CtlAfter  \\\n",
      "count  100.0  100.00000  100.000000    100.000000  100.000000  100.000000   \n",
      "mean     5.0   36.61000   34.040000     39.724646   38.750000   38.790000   \n",
      "std      0.0    4.97447    5.493651      7.495875    4.641436    4.874786   \n",
      "min      5.0   26.00000   24.000000     23.000000   28.000000   30.000000   \n",
      "25%      5.0   33.00000   30.000000     34.000000   36.000000   36.000000   \n",
      "50%      5.0   36.00000   33.000000     38.000000   38.500000   38.000000   \n",
      "75%      5.0   40.00000   36.000000     45.030303   42.000000   41.000000   \n",
      "max      5.0   49.00000   58.000000     57.000000   51.000000   54.000000   \n",
      "\n",
      "       CtlLongAfter  \n",
      "count    100.000000  \n",
      "mean      40.510000  \n",
      "std        4.639521  \n",
      "min       30.000000  \n",
      "25%       38.000000  \n",
      "50%       40.000000  \n",
      "75%       43.000000  \n",
      "max       52.000000  \n",
      "\n",
      "        pair   SbjBefore    SbjAfter  SbjLongAfter   CtlBefore    CtlAfter  \\\n",
      "count  100.0  100.000000  100.000000    100.000000  100.000000  100.000000   \n",
      "mean     6.0   40.130000   33.330000     41.300000   38.750000   38.717172   \n",
      "std      0.0    4.961783    4.355549      6.476843    4.641436    4.841021   \n",
      "min      6.0   28.000000   26.000000     27.000000   28.000000   30.000000   \n",
      "25%      6.0   36.750000   30.000000     37.000000   36.000000   36.000000   \n",
      "50%      6.0   40.500000   33.000000     42.000000   38.500000   38.000000   \n",
      "75%      6.0   43.000000   36.000000     45.250000   42.000000   41.000000   \n",
      "max      6.0   55.000000   44.000000     60.000000   51.000000   54.000000   \n",
      "\n",
      "       CtlLongAfter  \n",
      "count     100.00000  \n",
      "mean       41.36000  \n",
      "std         5.38145  \n",
      "min        26.00000  \n",
      "25%        38.00000  \n",
      "50%        42.00000  \n",
      "75%        45.00000  \n",
      "max        53.00000  \n",
      "\n",
      "        pair   SbjBefore    SbjAfter  SbjLongAfter   CtlBefore    CtlAfter  \\\n",
      "count  100.0  100.000000  100.000000    100.000000  100.000000  100.000000   \n",
      "mean     7.0   29.860000   27.750000     29.810000   42.140000   42.190000   \n",
      "std      0.0    4.077581    3.820135      3.448598    4.790605    4.753935   \n",
      "min      7.0   22.000000   19.000000     20.000000   32.000000   31.000000   \n",
      "25%      7.0   27.000000   25.000000     27.000000   38.000000   39.000000   \n",
      "50%      7.0   29.000000   28.000000     29.000000   42.000000   43.000000   \n",
      "75%      7.0   33.000000   30.000000     33.000000   45.000000   46.000000   \n",
      "max      7.0   43.000000   37.000000     38.000000   56.000000   54.000000   \n",
      "\n",
      "       CtlLongAfter  \n",
      "count     100.00000  \n",
      "mean       41.45000  \n",
      "std         4.75538  \n",
      "min        31.00000  \n",
      "25%        38.00000  \n",
      "50%        41.00000  \n",
      "75%        44.00000  \n",
      "max        53.00000  \n",
      "\n",
      "        pair   SbjBefore    SbjAfter  SbjLongAfter   CtlBefore    CtlAfter  \\\n",
      "count  100.0  100.000000  100.000000    100.000000  100.000000  100.000000   \n",
      "mean     8.0   38.350000   38.680000     41.630000   38.090000   36.910000   \n",
      "std      0.0    4.967317    5.842858      5.233256    4.863999    4.707816   \n",
      "min      8.0   30.000000   23.000000     30.000000   29.000000   29.000000   \n",
      "25%      8.0   35.000000   35.000000     37.750000   35.000000   33.000000   \n",
      "50%      8.0   39.000000   38.000000     41.000000   38.000000   37.000000   \n",
      "75%      8.0   41.000000   42.000000     44.250000   41.000000   40.000000   \n",
      "max      8.0   55.000000   63.000000     55.000000   56.000000   50.000000   \n",
      "\n",
      "       CtlLongAfter  \n",
      "count    100.000000  \n",
      "mean      40.070000  \n",
      "std        6.391685  \n",
      "min       28.000000  \n",
      "25%       35.750000  \n",
      "50%       39.000000  \n",
      "75%       45.000000  \n",
      "max       57.000000  \n",
      "\n",
      "        pair   SbjBefore    SbjAfter  SbjLongAfter   CtlBefore   CtlAfter  \\\n",
      "count  100.0  100.000000  100.000000    100.000000  100.000000  100.00000   \n",
      "mean     9.0   38.050000   34.310000     38.620000   40.747475   37.47000   \n",
      "std      0.0    5.097781    4.253804      5.890894    4.904770    3.93753   \n",
      "min      9.0   30.000000   24.000000     28.000000   30.000000   30.00000   \n",
      "25%      9.0   34.000000   31.750000     34.000000   38.000000   35.00000   \n",
      "50%      9.0   38.000000   34.000000     37.000000   40.000000   37.00000   \n",
      "75%      9.0   41.000000   37.000000     42.000000   43.000000   40.00000   \n",
      "max      9.0   51.000000   50.000000     58.000000   56.000000   49.00000   \n",
      "\n",
      "       CtlLongAfter  \n",
      "count    100.000000  \n",
      "mean      38.200000  \n",
      "std        4.474394  \n",
      "min       28.000000  \n",
      "25%       35.750000  \n",
      "50%       38.000000  \n",
      "75%       40.000000  \n",
      "max       55.000000  \n",
      "\n",
      "        pair   SbjBefore    SbjAfter  SbjLongAfter   CtlBefore   CtlAfter  \\\n",
      "count  100.0  100.000000  100.000000    100.000000  100.000000  100.00000   \n",
      "mean    10.0   33.950000   35.090000     35.850000   34.020000   35.07000   \n",
      "std      0.0    4.963249    5.966396      4.932627    5.482718    5.35272   \n",
      "min     10.0   22.000000   20.000000     24.000000   20.000000   25.00000   \n",
      "25%     10.0   30.000000   30.750000     32.000000   30.750000   31.75000   \n",
      "50%     10.0   34.000000   35.000000     36.000000   34.000000   35.00000   \n",
      "75%     10.0   37.000000   39.250000     39.000000   37.250000   39.00000   \n",
      "max     10.0   43.000000   53.000000     50.000000   47.000000   50.00000   \n",
      "\n",
      "       CtlLongAfter  \n",
      "count    100.000000  \n",
      "mean      38.687677  \n",
      "std        6.637697  \n",
      "min       24.000000  \n",
      "25%       34.000000  \n",
      "50%       38.000000  \n",
      "75%       43.643939  \n",
      "max       54.000000  \n",
      "\n",
      "        pair  SbjBefore    SbjAfter  SbjLongAfter   CtlBefore    CtlAfter  \\\n",
      "count  100.0  100.00000  100.000000    100.000000  100.000000  100.000000   \n",
      "mean    11.0   34.62000   33.630000     36.120000   32.181818   35.120000   \n",
      "std      0.0    4.85503    3.860327      5.371605    3.852267    4.288297   \n",
      "min     11.0   24.00000   25.000000     24.000000   22.000000   25.000000   \n",
      "25%     11.0   31.00000   30.000000     32.000000   29.000000   32.000000   \n",
      "50%     11.0   34.00000   34.000000     35.000000   32.000000   35.500000   \n",
      "75%     11.0   38.00000   36.000000     39.000000   35.439394   38.250000   \n",
      "max     11.0   52.00000   45.000000     51.000000   40.000000   49.000000   \n",
      "\n",
      "       CtlLongAfter  \n",
      "count    100.000000  \n",
      "mean      35.114545  \n",
      "std        4.676066  \n",
      "min       22.000000  \n",
      "25%       32.000000  \n",
      "50%       35.000000  \n",
      "75%       38.000000  \n",
      "max       50.000000  \n",
      "\n"
     ]
    },
    {
     "name": "stdout",
     "output_type": "stream",
     "text": [
      "        pair   SbjBefore   SbjAfter  SbjLongAfter   CtlBefore    CtlAfter  \\\n",
      "count  100.0  100.000000  100.00000    100.000000  100.000000  100.000000   \n",
      "mean    12.0   38.570000   35.30000     40.650000   40.860000   43.520000   \n",
      "std      0.0    6.567836    5.31531      5.977018    5.316299    5.198057   \n",
      "min     12.0   25.000000   25.00000     29.000000   30.000000   32.000000   \n",
      "25%     12.0   34.000000   31.00000     36.000000   37.000000   39.000000   \n",
      "50%     12.0   38.000000   35.00000     39.500000   40.000000   43.000000   \n",
      "75%     12.0   42.250000   39.00000     45.000000   44.000000   47.000000   \n",
      "max     12.0   58.000000   56.00000     54.000000   54.000000   57.000000   \n",
      "\n",
      "       CtlLongAfter  \n",
      "count    100.000000  \n",
      "mean      43.080000  \n",
      "std        5.347859  \n",
      "min       30.000000  \n",
      "25%       39.000000  \n",
      "50%       43.000000  \n",
      "75%       47.000000  \n",
      "max       56.000000  \n",
      "\n",
      "        pair   SbjBefore  SbjAfter  SbjLongAfter   CtlBefore    CtlAfter  \\\n",
      "count  100.0  100.000000  100.0000    100.000000  100.000000  100.000000   \n",
      "mean    13.0   39.620000   42.6100     41.080808   44.595960   49.575758   \n",
      "std      0.0    6.053265    5.1245      3.965408    6.704673    7.859029   \n",
      "min     13.0   27.000000   31.0000     32.000000   32.000000   34.000000   \n",
      "25%     13.0   36.000000   39.0000     38.560606   39.939394   43.939394   \n",
      "50%     13.0   39.000000   42.0000     40.752525   44.000000   49.752525   \n",
      "75%     13.0   43.000000   46.0000     43.060606   49.000000   55.000000   \n",
      "max     13.0   58.000000   56.0000     52.000000   65.000000   67.000000   \n",
      "\n",
      "       CtlLongAfter  \n",
      "count    100.000000  \n",
      "mean      45.030000  \n",
      "std        5.093975  \n",
      "min       32.000000  \n",
      "25%       41.000000  \n",
      "50%       45.000000  \n",
      "75%       49.000000  \n",
      "max       57.000000  \n",
      "\n",
      "        pair   SbjBefore    SbjAfter  SbjLongAfter   CtlBefore    CtlAfter  \\\n",
      "count  100.0  100.000000  100.000000    100.000000  100.000000  100.000000   \n",
      "mean    14.0   39.313131   42.240000     40.680000   44.590000   44.180000   \n",
      "std      0.0    5.316508    4.720726      4.796632    4.974876    4.693387   \n",
      "min     14.0   30.000000   33.000000     30.000000   31.000000   35.000000   \n",
      "25%     14.0   35.000000   39.000000     38.000000   41.000000   41.000000   \n",
      "50%     14.0   39.000000   42.000000     40.000000   45.000000   43.000000   \n",
      "75%     14.0   42.439394   45.000000     44.000000   48.000000   47.000000   \n",
      "max     14.0   53.000000   59.000000     54.000000   63.000000   60.000000   \n",
      "\n",
      "       CtlLongAfter  \n",
      "count    100.000000  \n",
      "mean      47.210000  \n",
      "std        5.946385  \n",
      "min       33.000000  \n",
      "25%       43.000000  \n",
      "50%       47.000000  \n",
      "75%       51.000000  \n",
      "max       61.000000  \n",
      "\n"
     ]
    }
   ],
   "source": [
    "for p in range(1,15):\n",
    "   print(tidyDf[tidyDf.pair==p].describe())\n",
    "   print()"
   ]
  }
 ],
 "metadata": {
  "kernelspec": {
   "display_name": "Python 3",
   "language": "python",
   "name": "python3"
  },
  "language_info": {
   "codemirror_mode": {
    "name": "ipython",
    "version": 3
   },
   "file_extension": ".py",
   "mimetype": "text/x-python",
   "name": "python",
   "nbconvert_exporter": "python",
   "pygments_lexer": "ipython3",
   "version": "3.7.1"
  }
 },
 "nbformat": 4,
 "nbformat_minor": 2
}
