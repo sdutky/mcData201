{
 "cells": [
  {
   "cell_type": "markdown",
   "metadata": {},
   "source": [
    "### Project 3: Scikitlearn Logistic Regression\n",
    "#### Montgomery College DATA201 Spring 2019  [Steve Dutky](sdutky@gmail.com)\n",
    "The third project is on Logistic Regression\n",
    " The target/label variable is discrete/qualitative and could be binary or multi-class. Choose a suitable dataset. The main goal of this project is to use the Scikitlearn Logisitic Regression, split the data into training and testing data, check the accuracy (confusion matrix / AuC)."
   ]
  },
  {
   "cell_type": "markdown",
   "metadata": {},
   "source": [
    "#### python/jupyter initialization:"
   ]
  },
  {
   "cell_type": "code",
   "execution_count": 90,
   "metadata": {},
   "outputs": [],
   "source": [
    "## import packages:\n",
    "import random # library of function for generating random numbers and samples\n",
    "import numpy as np # for vector operations\n",
    "import pandas as pd # for Data Frame methods\n",
    "import matplotlib.pyplot as plt # Two dimensional plotting library\n",
    "import seaborn as sns\n",
    "from scipy import stats #  library of statistical functions\n",
    "import sklearn #\n",
    "\n",
    "#\n",
    "# Set seed for generating psuedo random numbers\n",
    "np.random.seed(12345678)\n",
    "#\n",
    "# Set up graphics\n",
    "plt.style.use('classic')\n",
    "%matplotlib inline"
   ]
  },
  {
   "cell_type": "code",
   "execution_count": 91,
   "metadata": {},
   "outputs": [
    {
     "name": "stdout",
     "output_type": "stream",
     "text": [
      "<class 'pandas.core.frame.DataFrame'>\n",
      "RangeIndex: 266 entries, 0 to 265\n",
      "Data columns (total 7 columns):\n",
      "title        266 non-null object\n",
      "countNcd     266 non-null int64\n",
      "meanNcd      266 non-null float64\n",
      "stdNcd       266 non-null float64\n",
      "medianNcd    266 non-null float64\n",
      "class        266 non-null object\n",
      "isPerl       266 non-null bool\n",
      "dtypes: bool(1), float64(3), int64(1), object(2)\n",
      "memory usage: 12.8+ KB\n"
     ]
    }
   ],
   "source": [
    "ncdData=pd.read_csv(\"https://raw.githubusercontent.com/sdutky/mcData201/master/project3sources/sdutkyMcData201ncdData.csv\")\n",
    "ncdData.info()"
   ]
  },
  {
   "cell_type": "code",
   "execution_count": 92,
   "metadata": {
    "scrolled": true
   },
   "outputs": [
    {
     "data": {
      "image/png": "[encoded data removed]",
      "text/plain": [
       "<Figure size 1080x360 with 3 Axes>"
      ]
     },
     "metadata": {
      "needs_background": "light"
     },
     "output_type": "display_data"
    }
   ],
   "source": [
    "fig, (ax0,ax1,ax2) = plt.subplots(ncols=3,sharey=True, sharex=False,figsize=(15,5))\n",
    "ax0.hist(ncdData.meanNcd[ncdData['class']=='perl'])\n",
    "ax0.set_ylabel('count')\n",
    "ax0.set_xlabel('mean ncd')\n",
    "ax0.set_title('perl simularity distribution')\n",
    "\n",
    "ax1.hist(ncdData.meanNcd[ncdData['class']=='c'])\n",
    "ax1.set_ylabel('count')\n",
    "ax1.set_xlabel('mean ncd')\n",
    "ax1.set_title('C simularity distribution')\n",
    "                         \n",
    "ax2.hist(ncdData.meanNcd[ncdData['class']=='shakespeare'])\n",
    "ax2.set_ylabel('count')\n",
    "ax2.set_xlabel('mean ncd')\n",
    "ax2.set_title('Shakespeare simularity distribution')\n",
    "                         \n",
    "plt.show()"
   ]
  },
  {
   "cell_type": "code",
   "execution_count": 103,
   "metadata": {},
   "outputs": [],
   "source": [
    "from sklearn.model_selection import train_test_split\n",
    "predictors=ncdData[[\"meanNcd\"]]\n",
    "target=ncdData[[\"isPerl\"]]\n",
    "\n",
    "Xtrain, Xtest, yTrain, yTest = train_test_split( predictors, target, test_size=0.25, random_state=9)"
   ]
  },
  {
   "cell_type": "code",
   "execution_count": 104,
   "metadata": {},
   "outputs": [
    {
     "data": {
      "text/plain": [
       "LogisticRegression(C=1.0, class_weight=None, dual=False, fit_intercept=True,\n",
       "          intercept_scaling=1, max_iter=100, multi_class='warn',\n",
       "          n_jobs=None, penalty='l2', random_state=None, solver='lbfgs',\n",
       "          tol=0.0001, verbose=0, warm_start=False)"
      ]
     },
     "execution_count": 104,
     "metadata": {},
     "output_type": "execute_result"
    }
   ],
   "source": [
    "from sklearn.linear_model import LogisticRegression\n",
    "logistic = LogisticRegression(solver='lbfgs')\n",
    "logistic.fit(Xtrain,yTrain.values.ravel())"
   ]
  },
  {
   "cell_type": "code",
   "execution_count": 95,
   "metadata": {},
   "outputs": [
    {
     "data": {
      "text/plain": [
       "0.417910447761194"
      ]
     },
     "execution_count": 95,
     "metadata": {},
     "output_type": "execute_result"
    }
   ],
   "source": [
    "logistic.score(Xtest, yTest.values.ravel() )"
   ]
  },
  {
   "cell_type": "code",
   "execution_count": 100,
   "metadata": {},
   "outputs": [
    {
     "name": "stdout",
     "output_type": "stream",
     "text": [
      "[[ 0 39]\n",
      " [ 0 28]]\n",
      "       isPerl predict\n",
      "count      67      67\n",
      "unique      2       1\n",
      "top     False    True\n",
      "freq       39      67\n"
     ]
    }
   ],
   "source": [
    "from sklearn.metrics import confusion_matrix\n",
    "print(confusion_matrix(yTest, logistic.predict(Xtest)))\n",
    "df=yTest.copy()\n",
    "df['predict']=logistic.predict(Xtest)\n",
    "print(df.describe())"
   ]
  },
  {
   "cell_type": "code",
   "execution_count": null,
   "metadata": {},
   "outputs": [],
   "source": []
  },
  {
   "cell_type": "code",
   "execution_count": 97,
   "metadata": {},
   "outputs": [
    {
     "name": "stdout",
     "output_type": "stream",
     "text": [
      "Help on function score in module sklearn.base:\n",
      "\n",
      "score(self, X, y, sample_weight=None)\n",
      "    Returns the mean accuracy on the given test data and labels.\n",
      "    \n",
      "    In multi-label classification, this is the subset accuracy\n",
      "    which is a harsh metric since you require for each sample that\n",
      "    each label set be correctly predicted.\n",
      "    \n",
      "    Parameters\n",
      "    ----------\n",
      "    X : array-like, shape = (n_samples, n_features)\n",
      "        Test samples.\n",
      "    \n",
      "    y : array-like, shape = (n_samples) or (n_samples, n_outputs)\n",
      "        True labels for X.\n",
      "    \n",
      "    sample_weight : array-like, shape = [n_samples], optional\n",
      "        Sample weights.\n",
      "    \n",
      "    Returns\n",
      "    -------\n",
      "    score : float\n",
      "        Mean accuracy of self.predict(X) wrt. y.\n",
      "\n"
     ]
    }
   ],
   "source": [
    "help(LogisticRegression.score)"
   ]
  }
 ],
 "metadata": {
  "kernelspec": {
   "display_name": "Python 3",
   "language": "python",
   "name": "python3"
  },
  "language_info": {
   "codemirror_mode": {
    "name": "ipython",
    "version": 3
   },
   "file_extension": ".py",
   "mimetype": "text/x-python",
   "name": "python",
   "nbconvert_exporter": "python",
   "pygments_lexer": "ipython3",
   "version": "3.7.1"
  }
 },
 "nbformat": 4,
 "nbformat_minor": 2
}
